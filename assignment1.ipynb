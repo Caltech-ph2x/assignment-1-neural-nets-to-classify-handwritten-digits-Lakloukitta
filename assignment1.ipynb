{
 "cells": [
  {
   "cell_type": "markdown",
   "id": "0c351bc0-d4cf-4b59-8911-7a72215aa3b0",
   "metadata": {},
   "source": [
    "# Assignment 1: Train a simple neural network to classify the handwritten digits from the MNIST database\n",
    "### Ph22 / Caltech / Spring 2024"
   ]
  },
  {
   "cell_type": "code",
   "execution_count": null,
   "id": "1eee6624-482d-4181-9179-748b64ac2e81",
   "metadata": {},
   "outputs": [],
   "source": [
    "import numpy as np\n",
    "import matplotlib.pyplot as plt\n",
    "import yaml\n",
    "import gzip\n",
    "import tqdm\n",
    "import asciichartpy\n",
    "import pickle\n",
    "\n",
    "from timeit import default_timer as timer\n",
    "\n",
    "# our special libraries for the network\n",
    "import network"
   ]
  },
  {
   "cell_type": "markdown",
   "id": "3e058e02",
   "metadata": {},
   "source": [
    "In this assignment, we will be implementing a neural network from scratch! The task is to classify handwritten digits given images of the same. We'll be using the MNIST dataset. Below is some helper code that loads the dataset. Take a look at how at both the input (image) and output (digit) is encoded in our setting: "
   ]
  },
  {
   "cell_type": "code",
   "execution_count": 10,
   "id": "0b721728-07c1-4886-b156-c0854f21ab93",
   "metadata": {},
   "outputs": [],
   "source": [
    "# functions to load the MNIST data\n",
    "def load_data():\n",
    "    \"\"\"\n",
    "    Return the MNIST data as a tuple containing the training data,\n",
    "    the validation data, and the test data.\n",
    "    \"\"\"\n",
    "    with gzip.open('data/mnist.pkl.gz', 'rb') as f:\n",
    "        # In Python 3, 'encoding' must be specified when reading Python 2 pickled files\n",
    "        training_data, validation_data, test_data = pickle.load(f, encoding='latin1')\n",
    "    return (training_data, validation_data, test_data)\n",
    "\n",
    "def load_data_wrapper():\n",
    "    \"\"\"\n",
    "    Return a tuple containing (training_data, validation_data, test_data).\n",
    "\n",
    "    MNIST data is a 28x28 pixel image, with each pixel brightness value ranging from 0 to 1. \n",
    "    Reshape it into a 28x28 = 784 element row vector.\n",
    "    \"\"\"\n",
    "    tr_d, va_d, te_d  = load_data()\n",
    "    training_inputs   = [np.reshape(x, (784, 1)) for x in tr_d[0]]\n",
    "    training_results  = [vectorized_result(y) for y in tr_d[1]]\n",
    "    training_data     = list(zip(training_inputs, training_results)) # Explicitly convert to list\n",
    "    validation_inputs = [np.reshape(x, (784, 1)) for x in va_d[0]]\n",
    "    validation_data   = list(zip(validation_inputs, va_d[1]))        # Explicitly convert to list\n",
    "    test_inputs       = [np.reshape(x, (784, 1)) for x in te_d[0]]\n",
    "    test_data         = list(zip(test_inputs, te_d[1]))              # Explicitly convert to list\n",
    "    return (training_data, validation_data, test_data)\n",
    "\n",
    "def vectorized_result(j):\n",
    "    \"\"\"\n",
    "    Return a 10-dimensional unit vector with a 1.0 in the jth position and zeroes elsewhere.\n",
    "    \"\"\"\n",
    "    e = np.zeros((10, 1))\n",
    "    e[j] = 1.0\n",
    "    return e"
   ]
  },
  {
   "cell_type": "markdown",
   "id": "1e8c88d4",
   "metadata": {},
   "source": [
    "### Part 1: Warm up"
   ]
  },
  {
   "cell_type": "markdown",
   "id": "49ab8a88",
   "metadata": {},
   "source": [
    "- Let's get some practice with handling data and reshaping matrices. Using matplotlib, plot some of the handwritten digits as images. \n",
    "- Write a short program that randomly assigns one of the digits to every image in the test_data. What's the success probability? "
   ]
  },
  {
   "cell_type": "code",
   "execution_count": 38,
   "id": "8d1aaaf3",
   "metadata": {},
   "outputs": [
    {
     "data": {
      "image/png": "[encoded data removed]",
      "text/plain": [
       "<Figure size 640x480 with 8 Axes>"
      ]
     },
     "metadata": {},
     "output_type": "display_data"
    },
    {
     "name": "stdout",
     "output_type": "stream",
     "text": [
      "Success Probability: 10.34%\n"
     ]
    }
   ],
   "source": [
    "# functions to load the MNIST data\n",
    "import numpy as np\n",
    "import matplotlib.pyplot as plt\n",
    "\n",
    "# our special libraries for the network\n",
    "\n",
    "def load_data():\n",
    "    \"\"\"\n",
    "    Return the MNIST data as a tuple containing the training data,\n",
    "    the validation data, and the test data.\n",
    "    \"\"\"\n",
    "    with gzip.open('data/mnist.pkl.gz', 'rb') as f:\n",
    "        # In Python 3, 'encoding' must be specified when reading Python 2 pickled files\n",
    "        training_data, validation_data, test_data = pickle.load(f, encoding='latin1')\n",
    "    return (training_data, validation_data, test_data)\n",
    "\n",
    "def load_data_wrapper():\n",
    "    \"\"\"\n",
    "    Return a tuple containing (training_data, validation_data, test_data).\n",
    "\n",
    "    MNIST data is a 28x28 pixel image, with each pixel brightness value ranging from 0 to 1. \n",
    "    Reshape it into a 28x28 = 784 element row vector.\n",
    "    \"\"\"\n",
    "    tr_d, va_d, te_d  = load_data()\n",
    "    training_inputs   = [np.reshape(x, (784, 1)) for x in tr_d[0]]\n",
    "    training_results  = [vectorized_result(y) for y in tr_d[1]]\n",
    "    training_data     = list(zip(training_inputs, training_results)) # Explicitly convert to list\n",
    "    validation_inputs = [np.reshape(x, (784, 1)) for x in va_d[0]]\n",
    "    validation_data   = list(zip(validation_inputs, va_d[1]))        # Explicitly convert to list\n",
    "    test_inputs       = [np.reshape(x, (784, 1)) for x in te_d[0]]\n",
    "    test_data         = list(zip(test_inputs, te_d[1]))              # Explicitly convert to list\n",
    "    return (training_data, validation_data, test_data)\n",
    "\n",
    "def vectorized_result(j):\n",
    "    \"\"\"\n",
    "    Return a 10-dimensional unit vector with a 1.0 in the jth position and zeroes elsewhere.\n",
    "    \"\"\"\n",
    "    e = np.zeros((10, 1))\n",
    "    e[j] = 1.0\n",
    "    return e\n",
    "training_data, validation_data, test_data=load_data_wrapper()\n",
    "def plot(data, image_number):\n",
    "    for  index, (image,image_label) in enumerate(data[:image_number]):\n",
    "        plt.subplot(1, image_number, index + 1)\n",
    "        plt.axis('off')\n",
    "        plt.imshow(image.reshape(28, 28), cmap='plasma')\n",
    "        plt.title(np.argmax(image_label))\n",
    "    plt.show()\n",
    "plot(training_data,8)\n",
    "def random_allocation(data):\n",
    "    correct_allocation=0\n",
    "    for label in map(lambda x: x[1], data):\n",
    "        digit=np.random.randint(0,10)\n",
    "        if digit==label:\n",
    "            correct_allocation+=1\n",
    "    return correct_allocation/len(data)\n",
    "success_prob=random_allocation(test_data)\n",
    "print(f'Success Probability: {success_prob * 100}%')\n",
    "    "
   ]
  },
  {
   "cell_type": "markdown",
   "id": "5345ccc8",
   "metadata": {},
   "source": [
    "### Part 2: Training neural networks"
   ]
  },
  {
   "cell_type": "markdown",
   "id": "c1d8eb24",
   "metadata": {},
   "source": [
    "The code below first gets network parameters (architecture, activation function, learning rate, mini-batch size and epochs) by loading the network_config.yaml file. Then, it loads the MNIST dataset. "
   ]
  },
  {
   "cell_type": "code",
   "execution_count": 9,
   "id": "65f87957-d2ad-464c-93ff-c47b3683c571",
   "metadata": {},
   "outputs": [
    {
     "name": "stdout",
     "output_type": "stream",
     "text": [
      "Loaded the MNIST database...\n",
      "Thinking Machine Awakened...\n",
      "Training the NN...\n"
     ]
    },
    {
     "name": "stderr",
     "output_type": "stream",
     "text": [
      "Training Progress:   0%|          | 0/30 [00:00<?, ?it/s]\n"
     ]
    },
    {
     "ename": "IndexError",
     "evalue": "list index out of range",
     "output_type": "error",
     "traceback": [
      "\u001b[0;31m---------------------------------------------------------------------------\u001b[0m",
      "\u001b[0;31mIndexError\u001b[0m                                Traceback (most recent call last)",
      "Cell \u001b[0;32mIn[9], line 63\u001b[0m\n\u001b[1;32m     61\u001b[0m t0 \u001b[38;5;241m=\u001b[39m timer()\n\u001b[1;32m     62\u001b[0m \u001b[38;5;66;03m# use Stochastic Gradient Descent to optimize the network\u001b[39;00m\n\u001b[0;32m---> 63\u001b[0m net\u001b[38;5;241m.\u001b[39mSGD(training_data, \n\u001b[1;32m     64\u001b[0m         config[\u001b[38;5;124m'\u001b[39m\u001b[38;5;124mepochs\u001b[39m\u001b[38;5;124m'\u001b[39m], \n\u001b[1;32m     65\u001b[0m         config[\u001b[38;5;124m'\u001b[39m\u001b[38;5;124mmini_batch_size\u001b[39m\u001b[38;5;124m'\u001b[39m], \n\u001b[1;32m     66\u001b[0m         config[\u001b[38;5;124m'\u001b[39m\u001b[38;5;124mlearning_rate\u001b[39m\u001b[38;5;124m'\u001b[39m], \n\u001b[1;32m     67\u001b[0m         test_data\u001b[38;5;241m=\u001b[39mtest_data)\n\u001b[1;32m     69\u001b[0m \u001b[38;5;28mprint\u001b[39m(\u001b[38;5;124m\"\u001b[39m\u001b[38;5;124mDone Training and Testing the Machina.\u001b[39m\u001b[38;5;124m\"\u001b[39m)\n\u001b[1;32m     70\u001b[0m \u001b[38;5;28mprint\u001b[39m(\u001b[38;5;124m\"\u001b[39m\u001b[38;5;124mTraining time = \u001b[39m\u001b[38;5;132;01m{:0.1f}\u001b[39;00m\u001b[38;5;124m\"\u001b[39m\u001b[38;5;241m.\u001b[39mformat(timer() \u001b[38;5;241m-\u001b[39m t0) \u001b[38;5;241m+\u001b[39m \u001b[38;5;124m\"\u001b[39m\u001b[38;5;124m seconds.\u001b[39m\u001b[38;5;124m\"\u001b[39m)\n",
      "File \u001b[0;32m~/Downloads/ph22/hw1/ph22_students_24SP/assignment1/assignment/network.py:89\u001b[0m, in \u001b[0;36mNetwork.SGD\u001b[0;34m(self, training_data, epochs, mini_batch_size, learning_rate, test_data)\u001b[0m\n\u001b[1;32m     87\u001b[0m \u001b[38;5;66;03m# Update network weights and biases for each mini-batch\u001b[39;00m\n\u001b[1;32m     88\u001b[0m \u001b[38;5;28;01mfor\u001b[39;00m mini_batch \u001b[38;5;129;01min\u001b[39;00m mini_batches:\n\u001b[0;32m---> 89\u001b[0m     \u001b[38;5;28mself\u001b[39m\u001b[38;5;241m.\u001b[39mupdate_mini_batch(mini_batch, learning_rate)\n\u001b[1;32m     90\u001b[0m \u001b[38;5;66;03m# Evaluate and report progress\u001b[39;00m\n\u001b[1;32m     91\u001b[0m \u001b[38;5;28;01mif\u001b[39;00m test_data:\n",
      "File \u001b[0;32m~/Downloads/ph22/hw1/ph22_students_24SP/assignment1/assignment/network.py:107\u001b[0m, in \u001b[0;36mNetwork.update_mini_batch\u001b[0;34m(self, mini_batch, learning_rate)\u001b[0m\n\u001b[1;32m    104\u001b[0m nabla_w \u001b[38;5;241m=\u001b[39m [np\u001b[38;5;241m.\u001b[39mzeros(w\u001b[38;5;241m.\u001b[39mshape) \u001b[38;5;28;01mfor\u001b[39;00m w \u001b[38;5;129;01min\u001b[39;00m \u001b[38;5;28mself\u001b[39m\u001b[38;5;241m.\u001b[39mweights]  \u001b[38;5;66;03m# Gradient accumulator for weights\u001b[39;00m\n\u001b[1;32m    105\u001b[0m \u001b[38;5;28;01mfor\u001b[39;00m x, y \u001b[38;5;129;01min\u001b[39;00m mini_batch:\n\u001b[1;32m    106\u001b[0m     \u001b[38;5;66;03m# Compute gradient for current sample\u001b[39;00m\n\u001b[0;32m--> 107\u001b[0m     delta_nabla_b, delta_nabla_w \u001b[38;5;241m=\u001b[39m \u001b[38;5;28mself\u001b[39m\u001b[38;5;241m.\u001b[39mbackprop(x, y)\n\u001b[1;32m    108\u001b[0m     \u001b[38;5;66;03m# Update gradient accumulators\u001b[39;00m\n\u001b[1;32m    109\u001b[0m     nabla_b \u001b[38;5;241m=\u001b[39m [nb \u001b[38;5;241m+\u001b[39m dnb \u001b[38;5;28;01mfor\u001b[39;00m nb, dnb \u001b[38;5;129;01min\u001b[39;00m \u001b[38;5;28mzip\u001b[39m(nabla_b, delta_nabla_b)]\n",
      "File \u001b[0;32m~/Downloads/ph22/hw1/ph22_students_24SP/assignment1/assignment/network.py:138\u001b[0m, in \u001b[0;36mNetwork.backprop\u001b[0;34m(self, x, y)\u001b[0m\n\u001b[1;32m    135\u001b[0m \u001b[38;5;28;01mfor\u001b[39;00m l \u001b[38;5;129;01min\u001b[39;00m \u001b[38;5;28mrange\u001b[39m(\u001b[38;5;241m2\u001b[39m, \u001b[38;5;28mself\u001b[39m\u001b[38;5;241m.\u001b[39mnum_layers):\n\u001b[1;32m    136\u001b[0m     \u001b[38;5;66;03m# Following the above equation for updating the gradient for the final layer, implement updates for preceeding                   layers. What will delta be in this case?\u001b[39;00m\n\u001b[1;32m    137\u001b[0m     z \u001b[38;5;241m=\u001b[39m zs[\u001b[38;5;241m-\u001b[39ml]\n\u001b[0;32m--> 138\u001b[0m     sp \u001b[38;5;241m=\u001b[39m \u001b[38;5;28mself\u001b[39m\u001b[38;5;241m.\u001b[39mactivations[\u001b[38;5;241m-\u001b[39ml\u001b[38;5;241m-\u001b[39m\u001b[38;5;241m1\u001b[39m]\u001b[38;5;241m.\u001b[39mderivative(z)\n\u001b[1;32m    139\u001b[0m     delta \u001b[38;5;241m=\u001b[39m np\u001b[38;5;241m.\u001b[39mdot(\u001b[38;5;28mself\u001b[39m\u001b[38;5;241m.\u001b[39mweights[\u001b[38;5;241m-\u001b[39ml\u001b[38;5;241m+\u001b[39m\u001b[38;5;241m1\u001b[39m]\u001b[38;5;241m.\u001b[39mtranspose(), delta) \u001b[38;5;241m*\u001b[39m sp\n\u001b[1;32m    140\u001b[0m     nabla_b[\u001b[38;5;241m-\u001b[39ml] \u001b[38;5;241m=\u001b[39m delta \u001b[38;5;66;03m# Update gradient for biases\u001b[39;00m\n",
      "\u001b[0;31mIndexError\u001b[0m: list index out of range"
     ]
    }
   ],
   "source": [
    "\n",
    "# Load configuration from the YAML file\n",
    "with open('network_config.yaml', 'r') as file:\n",
    "    config = yaml.safe_load(file)\n",
    "\n",
    "training_data, validation_data, test_data = load_data_wrapper()\n",
    "print(\"Loaded the MNIST database...\")"
   ]
  },
  {
   "cell_type": "markdown",
   "id": "85cf401a",
   "metadata": {},
   "source": [
    "- The file network.py contains a class Network that implements the neural network and its training. Write the missing functions in network.py (instructions for this part are in the file itself). "
   ]
  },
  {
   "cell_type": "markdown",
   "id": "c6491bce",
   "metadata": {},
   "source": [
    "Below is sample code for using network.py to train the neural network and display the process graphically. Here, we call network.Network to initialize the neural network with given parameters from the yaml file and the net.SGD routine runs the \"training\" part of the neural network. "
   ]
  },
  {
   "cell_type": "code",
   "execution_count": 1,
   "id": "559c1739",
   "metadata": {},
   "outputs": [
    {
     "ename": "NameError",
     "evalue": "name 'network' is not defined",
     "output_type": "error",
     "traceback": [
      "\u001b[0;31m---------------------------------------------------------------------------\u001b[0m",
      "\u001b[0;31mNameError\u001b[0m                                 Traceback (most recent call last)",
      "Cell \u001b[0;32mIn[1], line 2\u001b[0m\n\u001b[1;32m      1\u001b[0m \u001b[38;5;66;03m# Initialize the Network with configurations from YAML file\u001b[39;00m\n\u001b[0;32m----> 2\u001b[0m net \u001b[38;5;241m=\u001b[39m network\u001b[38;5;241m.\u001b[39mNetwork(config[\u001b[38;5;124m'\u001b[39m\u001b[38;5;124mnetwork_structure\u001b[39m\u001b[38;5;124m'\u001b[39m], \n\u001b[1;32m      3\u001b[0m                       config[\u001b[38;5;124m'\u001b[39m\u001b[38;5;124mactivation_functions\u001b[39m\u001b[38;5;124m'\u001b[39m])\n\u001b[1;32m      4\u001b[0m \u001b[38;5;28mprint\u001b[39m(\u001b[38;5;124m\"\u001b[39m\u001b[38;5;124mThinking Machine Awakened...\u001b[39m\u001b[38;5;124m\"\u001b[39m)\n\u001b[1;32m      7\u001b[0m \u001b[38;5;28mprint\u001b[39m(\u001b[38;5;124m\"\u001b[39m\u001b[38;5;124mTraining the NN...\u001b[39m\u001b[38;5;124m\"\u001b[39m)\n",
      "\u001b[0;31mNameError\u001b[0m: name 'network' is not defined"
     ]
    }
   ],
   "source": [
    "# Initialize the Network with configurations from YAML file\n",
    "net = network.Network(config['network_structure'], \n",
    "                      config['activation_functions'])\n",
    "print(\"Thinking Machine Awakened...\")\n",
    "\n",
    "\n",
    "print(\"Training the NN...\")\n",
    "t0 = timer()\n",
    "# use Stochastic Gradient Descent to optimize the network\n",
    "net.SGD(training_data, \n",
    "        config['epochs'], \n",
    "        config['mini_batch_size'], \n",
    "        config['learning_rate'], \n",
    "        test_data=test_data)\n",
    "\n",
    "print(\"Done Training and Testing the Machina.\")\n",
    "print(\"Training time = {:0.1f}\".format(timer() - t0) + \" seconds.\")"
   ]
  },
  {
   "cell_type": "markdown",
   "id": "c301fe44",
   "metadata": {},
   "source": [
    "### Part 3: Playing with parameters"
   ]
  },
  {
   "cell_type": "markdown",
   "id": "f01994ad",
   "metadata": {},
   "source": [
    "- Using the given parameters, the neural network probably doesn't do too well on the task. Play around with architecture, activation function, learning rate, mini-batch size and epochs. In particular, design an experiment that elucidates the role of one of these parameters. For example, one experiment could be: for fixed parameters, plot the loss schedule for learning rate = 0.1, 1 and 10 and see how it changes. Will you keep getting better accuracy if you keep increasing learning rate? "
   ]
  },
  {
   "cell_type": "markdown",
   "id": "114a98f6",
   "metadata": {
    "vscode": {
     "languageId": "raw"
    }
   },
   "source": [
    "c) with the initial parameters given, the accuracy rate fluctuated within the \n",
    "10% .\n",
    "Afterwards, I changed the activation rates as follows: activation_functions: ['sigmoid', 'sigmoid', 'sigmoid', 'sigmoid']\n",
    "which enabled me to reach  around 95% accuracy rate. I also made some adjustements to SDG funciton just to explore that decaying the learning rate could be useful as this means that the method starts with a larger learning rate to make big improvements quickly and then reduces the learning rate over time to make smaller, more precise adjustments. This helps the model learn better without missing or overshooting the best solution."
   ]
  },
  {
   "cell_type": "markdown",
   "id": "2f494819",
   "metadata": {},
   "source": []
  },
  {
   "cell_type": "code",
   "execution_count": 8,
   "id": "c0a23a32",
   "metadata": {},
   "outputs": [
    {
     "name": "stdout",
     "output_type": "stream",
     "text": [
      "After changing activation rates:\n"
     ]
    },
    {
     "data": {
      "text/html": [
       "<img src=\"https://github.com/Lakloukitta/screenshot/blob/main/Screenshot%202024-04-06%20at%205.20.34%20PM.png?raw=true\"/>"
      ],
      "text/plain": [
       "<IPython.core.display.Image object>"
      ]
     },
     "execution_count": 8,
     "metadata": {},
     "output_type": "execute_result"
    }
   ],
   "source": [
    "from IPython.display import Image\n",
    "print(\"After changing activation rates:\")\n",
    "Image(url=\"https://github.com/Lakloukitta/screenshot/blob/main/Screenshot%202024-04-06%20at%205.20.34%20PM.png?raw=true\")\n"
   ]
  },
  {
   "cell_type": "markdown",
   "id": "adec131c",
   "metadata": {},
   "source": []
  }
 ],
 "metadata": {
  "kernelspec": {
   "display_name": "Python 3 (ipykernel)",
   "language": "python",
   "name": "python3"
  },
  "language_info": {
   "codemirror_mode": {
    "name": "ipython",
    "version": 3
   },
   "file_extension": ".py",
   "mimetype": "text/x-python",
   "name": "python",
   "nbconvert_exporter": "python",
   "pygments_lexer": "ipython3",
   "version": "3.11.7"
  }
 },
 "nbformat": 4,
 "nbformat_minor": 5
}
